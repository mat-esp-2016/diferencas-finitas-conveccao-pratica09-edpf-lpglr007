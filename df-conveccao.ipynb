{
 "cells": [
  {
   "cell_type": "markdown",
   "metadata": {},
   "source": [
    "# Método das diferenças finitas: Convecção"
   ]
  },
  {
   "cell_type": "markdown",
   "metadata": {},
   "source": [
    "Vamos resolver a equação de convecção:\n",
    "\n",
    "$$\\frac{\\partial u}{\\partial t} + c \\frac{\\partial u}{\\partial x} = 0$$"
   ]
  },
  {
   "cell_type": "markdown",
   "metadata": {},
   "source": [
    "## Setup"
   ]
  },
  {
   "cell_type": "code",
   "execution_count": 3,
   "metadata": {
    "collapsed": true
   },
   "outputs": [],
   "source": [
    "%matplotlib inline\n",
    "import numpy as np\n",
    "import matplotlib.pyplot as plt"
   ]
  },
  {
   "cell_type": "markdown",
   "metadata": {},
   "source": [
    "As células abaixo definem funções que criam o domínio e as condições iniciais."
   ]
  },
  {
   "cell_type": "code",
   "execution_count": 4,
   "metadata": {
    "collapsed": false
   },
   "outputs": [],
   "source": [
    "def cria_dominios(tamanho, Nx, duração, Nt):\n",
    "    \"\"\"\n",
    "    Cria o domínio espacial e calcula os intervalos de tempo e espaço.\n",
    "    \"\"\"\n",
    "    x = np.linspace(0, tamanho, Nx)\n",
    "    dx = x[1] - x[0]\n",
    "    dt = duração/(Nt - 1)\n",
    "    return x, dx, dt"
   ]
  },
  {
   "cell_type": "code",
   "execution_count": 5,
   "metadata": {
    "collapsed": false
   },
   "outputs": [
    {
     "name": "stdout",
     "output_type": "stream",
     "text": [
      "dx = 0.04 dt = 0.02\n"
     ]
    }
   ],
   "source": [
    "x, dx, dt = cria_dominios(tamanho=2, Nx=51, duração=1, Nt=51)\n",
    "print('dx =', dx, 'dt =', dt)"
   ]
  },
  {
   "cell_type": "code",
   "execution_count": 6,
   "metadata": {
    "collapsed": true
   },
   "outputs": [],
   "source": [
    "def cria_cond_inicial(x):\n",
    "    \"\"\"\n",
    "    Cria um vetor de condições iniciais u0 com uma função degrau.\n",
    "    \"\"\"\n",
    "    u0 = np.ones(x.size)\n",
    "    u0[(x >= 0.2) & (x <= 0.5)] = 2\n",
    "    return u0"
   ]
  },
  {
   "cell_type": "code",
   "execution_count": 5,
   "metadata": {
    "collapsed": false
   },
   "outputs": [
    {
     "data": {
      "text/plain": [
       "(0, 3)"
      ]
     },
     "execution_count": 5,
     "metadata": {},
     "output_type": "execute_result"
    },
    {
     "data": {
      "image/png": "[encoded data removed]",
      "text/plain": [
       "<matplotlib.figure.Figure at 0x512ea50>"
      ]
     },
     "metadata": {},
     "output_type": "display_data"
    }
   ],
   "source": [
    "u0 = cria_cond_inicial(x)\n",
    "\n",
    "plt.figure()\n",
    "plt.plot(x, u0, '.-k')\n",
    "plt.xlabel('x')\n",
    "plt.ylabel('u')\n",
    "plt.title('u0')\n",
    "plt.ylim(0, 3)"
   ]
  },
  {
   "cell_type": "markdown",
   "metadata": {},
   "source": [
    "## Tarefa 1\n",
    "\n",
    "Complete a função abaixo que executa 1 único passo no tempo utilizando diferenças progressivas no tempo e regressivas no espaço."
   ]
  },
  {
   "cell_type": "code",
   "execution_count": 7,
   "metadata": {
    "collapsed": false
   },
   "outputs": [],
   "source": [
    "def passo_no_tempo(u_passado, dx, dt, velocidade):\n",
    "    \"\"\"\n",
    "    Executa 1 passo no tempo.\n",
    "    \n",
    "    Dado u_passado, utiliza o método das diferenças finitas \n",
    "    para calcular u_futuro com passo no tempo dt.\n",
    "    \n",
    "    Utiliza a condição de contorno u(x=0, t) = 1.\n",
    "    \"\"\"\n",
    "    u_futuro = u_passado.copy()\n",
    "    Nx = len(u_passado)\n",
    "    u_futuro[0] = 1\n",
    "    for i in range (1,Nx):\n",
    "        u_futuro[i] = u_passado[i]-velocidade*(dt/dx)*(u_passado[i]-u_passado[i-1])\n",
    "    return u_futuro"
   ]
  },
  {
   "cell_type": "markdown",
   "metadata": {},
   "source": [
    "Use as células abaixo para checar se sua função funciona."
   ]
  },
  {
   "cell_type": "code",
   "execution_count": 16,
   "metadata": {
    "collapsed": false
   },
   "outputs": [],
   "source": [
    "u1 = passo_no_tempo(u0, dx, dt, velocidade=1)"
   ]
  },
  {
   "cell_type": "code",
   "execution_count": 18,
   "metadata": {
    "collapsed": false
   },
   "outputs": [
    {
     "data": {
      "text/plain": [
       "(0, 3)"
      ]
     },
     "execution_count": 18,
     "metadata": {},
     "output_type": "execute_result"
    },
    {
     "data": {
      "image/png": "[encoded data removed]",
      "text/plain": [
       "<matplotlib.figure.Figure at 0x61828b0>"
      ]
     },
     "metadata": {},
     "output_type": "display_data"
    }
   ],
   "source": [
    "plt.figure()\n",
    "plt.plot(x, u0, '--r')\n",
    "plt.plot(x, u1, '.-k')\n",
    "plt.xlabel('x')\n",
    "plt.ylabel('u')\n",
    "plt.ylim(0, 3)"
   ]
  },
  {
   "cell_type": "markdown",
   "metadata": {},
   "source": [
    "## Tarefa 2\n",
    "\n",
    "Complete a função abaixo que executa uma simulação completa de diferenças finitas (utilizando as funções definidas acima) para uma deterimada duração."
   ]
  },
  {
   "cell_type": "code",
   "execution_count": 13,
   "metadata": {
    "collapsed": true
   },
   "outputs": [],
   "source": [
    "def simula(tamanho, Nx, duração, Nt, velocidade):\n",
    "    \"\"\"\n",
    "    Executa uma simulação completa da equação de convecção \n",
    "    utilizando diferenças finitas.\n",
    "    \n",
    "    1. Cria o domínio e a condição inicial\n",
    "    2. Executa Nt passos no tempo\n",
    "    3. Retorna o domínio (x), a condição inicial (u0) e \n",
    "       o resultado final da simulação (u_futuro).\n",
    "    \"\"\"\n",
    "    x, dx, dt = cria_dominios(tamanho, Nx, duração, Nt)\n",
    "    u0 = cria_cond_inicial(x)\n",
    "    u_passado = u0\n",
    "    for i in range (Nt):\n",
    "        u_futuro = passo_no_tempo(u_passado, dx, dt, velocidade)\n",
    "        u_passado = u_futuro\n",
    "    return x, u0, u_futuro"
   ]
  },
  {
   "cell_type": "markdown",
   "metadata": {},
   "source": [
    "Utilize as células abaixo para checar o resultado da sua função."
   ]
  },
  {
   "cell_type": "code",
   "execution_count": 14,
   "metadata": {
    "collapsed": false
   },
   "outputs": [],
   "source": [
    "x, u0, u_futuro = simula(tamanho=2, Nx=51, duração=1, Nt=51, velocidade=1)"
   ]
  },
  {
   "cell_type": "code",
   "execution_count": 15,
   "metadata": {
    "collapsed": false
   },
   "outputs": [
    {
     "data": {
      "text/plain": [
       "(0, 3)"
      ]
     },
     "execution_count": 15,
     "metadata": {},
     "output_type": "execute_result"
    },
    {
     "data": {
      "image/png": "[encoded data removed]",
      "text/plain": [
       "<matplotlib.figure.Figure at 0x6082330>"
      ]
     },
     "metadata": {},
     "output_type": "display_data"
    }
   ],
   "source": [
    "plt.figure()\n",
    "plt.plot(x, u0, '--r')\n",
    "plt.plot(x, u_futuro, '.-k')\n",
    "plt.xlabel('x')\n",
    "plt.ylabel('u')\n",
    "plt.ylim(0, 3)"
   ]
  },
  {
   "cell_type": "markdown",
   "metadata": {},
   "source": [
    "### O que aconteceu com o resultado no final da simulação? Isso deveria acontecer?"
   ]
  },
  {
   "cell_type": "markdown",
   "metadata": {},
   "source": [
    "## Tarefa 3\n",
    "\n",
    "Faça uma figura com o resultado da simulação para diferentes valores `Nx` (utilize a lista abaixo). Inclua uma legenda no seu gráfico."
   ]
  },
  {
   "cell_type": "code",
   "execution_count": null,
   "metadata": {
    "collapsed": true
   },
   "outputs": [],
   "source": [
    "valores_de_Nx = [51, 71, 91, 101, 111]"
   ]
  },
  {
   "cell_type": "code",
   "execution_count": null,
   "metadata": {
    "collapsed": false
   },
   "outputs": [],
   "source": [
    "plt.figure()\n",
    "\n",
    "\n",
    "plt.legend()\n",
    "plt.xlabel('x')\n",
    "plt.ylabel('u')\n",
    "plt.ylim(0, 3)"
   ]
  },
  {
   "cell_type": "markdown",
   "metadata": {},
   "source": [
    "### O método é igualmente preciso para todos os valores de Nx?"
   ]
  },
  {
   "cell_type": "markdown",
   "metadata": {},
   "source": [
    "## Bônus\n",
    "\n",
    "Complete a função abaixo que executa a simulação completa mas dessa vez guarda cada passo da simulação. A função deve gerar uma lista `u` que contem o valor de $u$ de cada iteração.\n",
    "\n",
    "Complete o código que gera um gráfico com o valor de `u` a cada 10 iterações. Ou seja, o gráfico deve conter `u[0]`, `u[10]`, `u[20]`, etc."
   ]
  },
  {
   "cell_type": "code",
   "execution_count": null,
   "metadata": {
    "collapsed": true
   },
   "outputs": [],
   "source": [
    "def simula_grava(tamanho, Nx, duração, Nt, velocidade):\n",
    "    \"\"\"\n",
    "    Executa uma simulação completa da equação de convecção \n",
    "    utilizando diferenças finitas e grava cada iteração.\n",
    "    \n",
    "    1. Cria o domínio e a condição inicial\n",
    "    2. Executa Nt passos no tempo\n",
    "    3. Retorna o domínio (x) e uma lista (u) com o resultado\n",
    "       de cada passo no tempo (incluindo o u0).\n",
    "    \"\"\"\n",
    "    \n",
    "    return x, u"
   ]
  },
  {
   "cell_type": "code",
   "execution_count": null,
   "metadata": {
    "collapsed": true
   },
   "outputs": [],
   "source": [
    "x, u = simula_grava(tamanho=2, Nx=51, duração=1, Nt=51, velocidade=1)"
   ]
  },
  {
   "cell_type": "code",
   "execution_count": null,
   "metadata": {
    "collapsed": false
   },
   "outputs": [],
   "source": [
    "plt.figure()\n",
    "\n",
    "plt.xlabel('x')\n",
    "plt.ylabel('u')\n",
    "plt.ylim(0, 3)\n",
    "plt.title('Simulação completa (cada 10 iterações)')"
   ]
  },
  {
   "cell_type": "markdown",
   "metadata": {},
   "source": [
    "**Course website**: https://github.com/mat-esp/about\n",
    "\n",
    "**Note**: This notebook is part of the course \"Matemática Especial I\" of the [Universidade do Estado do Rio de Janeiro](http://www.uerj.br/). All content can be freely used and adapted under the terms of the \n",
    "[Creative Commons Attribution 4.0 International License](http://creativecommons.org/licenses/by/4.0/).\n",
    "\n",
    "![Creative Commons License](https://i.creativecommons.org/l/by/4.0/88x31.png)"
   ]
  }
 ],
 "metadata": {
  "anaconda-cloud": {},
  "kernelspec": {
   "display_name": "Python [Root]",
   "language": "python",
   "name": "Python [Root]"
  },
  "language_info": {
   "codemirror_mode": {
    "name": "ipython",
    "version": 3
   },
   "file_extension": ".py",
   "mimetype": "text/x-python",
   "name": "python",
   "nbconvert_exporter": "python",
   "pygments_lexer": "ipython3",
   "version": "3.5.2"
  }
 },
 "nbformat": 4,
 "nbformat_minor": 0
}
